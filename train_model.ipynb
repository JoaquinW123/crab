{
 "cells": [
  {
   "cell_type": "code",
   "execution_count": 1,
   "metadata": {},
   "outputs": [
    {
     "data": {
      "text/html": [
       "<div>\n",
       "<style scoped>\n",
       "    .dataframe tbody tr th:only-of-type {\n",
       "        vertical-align: middle;\n",
       "    }\n",
       "\n",
       "    .dataframe tbody tr th {\n",
       "        vertical-align: top;\n",
       "    }\n",
       "\n",
       "    .dataframe thead th {\n",
       "        text-align: right;\n",
       "    }\n",
       "</style>\n",
       "<table border=\"1\" class=\"dataframe\">\n",
       "  <thead>\n",
       "    <tr style=\"text-align: right;\">\n",
       "      <th></th>\n",
       "      <th>Sex</th>\n",
       "      <th>Length</th>\n",
       "      <th>Diameter</th>\n",
       "      <th>Height</th>\n",
       "      <th>Weight</th>\n",
       "      <th>Shucked Weight</th>\n",
       "      <th>Viscera Weight</th>\n",
       "      <th>Shell Weight</th>\n",
       "      <th>Age</th>\n",
       "    </tr>\n",
       "  </thead>\n",
       "  <tbody>\n",
       "    <tr>\n",
       "      <th>3888</th>\n",
       "      <td>F</td>\n",
       "      <td>1.4625</td>\n",
       "      <td>1.1375</td>\n",
       "      <td>0.3250</td>\n",
       "      <td>24.819987</td>\n",
       "      <td>11.651644</td>\n",
       "      <td>5.854172</td>\n",
       "      <td>6.378637</td>\n",
       "      <td>8</td>\n",
       "    </tr>\n",
       "    <tr>\n",
       "      <th>3889</th>\n",
       "      <td>F</td>\n",
       "      <td>1.5500</td>\n",
       "      <td>1.2125</td>\n",
       "      <td>0.4375</td>\n",
       "      <td>34.458817</td>\n",
       "      <td>15.450477</td>\n",
       "      <td>7.172423</td>\n",
       "      <td>9.780577</td>\n",
       "      <td>10</td>\n",
       "    </tr>\n",
       "    <tr>\n",
       "      <th>3890</th>\n",
       "      <td>I</td>\n",
       "      <td>0.6250</td>\n",
       "      <td>0.4625</td>\n",
       "      <td>0.1625</td>\n",
       "      <td>2.012815</td>\n",
       "      <td>0.765436</td>\n",
       "      <td>0.524466</td>\n",
       "      <td>0.637864</td>\n",
       "      <td>5</td>\n",
       "    </tr>\n",
       "    <tr>\n",
       "      <th>3891</th>\n",
       "      <td>I</td>\n",
       "      <td>1.0625</td>\n",
       "      <td>0.7750</td>\n",
       "      <td>0.2625</td>\n",
       "      <td>10.347568</td>\n",
       "      <td>4.507570</td>\n",
       "      <td>2.338834</td>\n",
       "      <td>2.976698</td>\n",
       "      <td>6</td>\n",
       "    </tr>\n",
       "    <tr>\n",
       "      <th>3892</th>\n",
       "      <td>I</td>\n",
       "      <td>0.7875</td>\n",
       "      <td>0.6125</td>\n",
       "      <td>0.2125</td>\n",
       "      <td>4.068153</td>\n",
       "      <td>1.502523</td>\n",
       "      <td>1.346601</td>\n",
       "      <td>1.417475</td>\n",
       "      <td>8</td>\n",
       "    </tr>\n",
       "  </tbody>\n",
       "</table>\n",
       "</div>"
      ],
      "text/plain": [
       "     Sex  Length  Diameter  Height     Weight  Shucked Weight  Viscera Weight  \\\n",
       "3888   F  1.4625    1.1375  0.3250  24.819987       11.651644        5.854172   \n",
       "3889   F  1.5500    1.2125  0.4375  34.458817       15.450477        7.172423   \n",
       "3890   I  0.6250    0.4625  0.1625   2.012815        0.765436        0.524466   \n",
       "3891   I  1.0625    0.7750  0.2625  10.347568        4.507570        2.338834   \n",
       "3892   I  0.7875    0.6125  0.2125   4.068153        1.502523        1.346601   \n",
       "\n",
       "      Shell Weight  Age  \n",
       "3888      6.378637    8  \n",
       "3889      9.780577   10  \n",
       "3890      0.637864    5  \n",
       "3891      2.976698    6  \n",
       "3892      1.417475    8  "
      ]
     },
     "execution_count": 1,
     "metadata": {},
     "output_type": "execute_result"
    }
   ],
   "source": [
    "import pandas as pd\n",
    "\n",
    "crab_data = pd.read_csv('CrabAgePrediction.csv')\n",
    "crab_data.tail()"
   ]
  },
  {
   "cell_type": "markdown",
   "metadata": {},
   "source": []
  },
  {
   "cell_type": "code",
   "execution_count": 2,
   "metadata": {},
   "outputs": [
    {
     "data": {
      "text/plain": [
       "Index(['Sex', 'Length', 'Diameter', 'Height', 'Weight', 'Shucked Weight',\n",
       "       'Viscera Weight', 'Shell Weight', 'Age'],\n",
       "      dtype='object')"
      ]
     },
     "execution_count": 2,
     "metadata": {},
     "output_type": "execute_result"
    }
   ],
   "source": [
    "crab_data.columns"
   ]
  },
  {
   "cell_type": "code",
   "execution_count": 3,
   "metadata": {},
   "outputs": [
    {
     "data": {
      "text/plain": [
       "Index(['Length', 'Diameter', 'Height', 'Weight', 'Shucked Weight',\n",
       "       'Viscera Weight', 'Shell Weight', 'Age', 'Sex_F', 'Sex_I', 'Sex_M'],\n",
       "      dtype='object')"
      ]
     },
     "execution_count": 3,
     "metadata": {},
     "output_type": "execute_result"
    }
   ],
   "source": [
    "df = pd.get_dummies(crab_data, columns = ['Sex'])\n",
    "df.columns"
   ]
  },
  {
   "cell_type": "code",
   "execution_count": 4,
   "metadata": {},
   "outputs": [
    {
     "data": {
      "text/plain": [
       "Length      3893\n",
       "Diameter    3893\n",
       "Height      3893\n",
       "Weight      3893\n",
       "Sex_F       3893\n",
       "Sex_I       3893\n",
       "Sex_M       3893\n",
       "dtype: int64"
      ]
     },
     "execution_count": 4,
     "metadata": {},
     "output_type": "execute_result"
    }
   ],
   "source": [
    "features = ['Length', 'Diameter', 'Height', 'Weight','Sex_F', 'Sex_I', 'Sex_M']\n",
    " \n",
    "X = df[features]\n",
    "\n",
    "y = df.Age\n",
    "\n",
    "X.count()"
   ]
  },
  {
   "cell_type": "code",
   "execution_count": 5,
   "metadata": {},
   "outputs": [
    {
     "name": "stdout",
     "output_type": "stream",
     "text": [
      "Epoch 1/50\n"
     ]
    },
    {
     "name": "stderr",
     "output_type": "stream",
     "text": [
      "/Library/Frameworks/Python.framework/Versions/3.12/lib/python3.12/site-packages/keras/src/layers/core/dense.py:87: UserWarning: Do not pass an `input_shape`/`input_dim` argument to a layer. When using Sequential models, prefer using an `Input(shape)` object as the first layer in the model instead.\n",
      "  super().__init__(activity_regularizer=activity_regularizer, **kwargs)\n"
     ]
    },
    {
     "name": "stdout",
     "output_type": "stream",
     "text": [
      "\u001b[1m98/98\u001b[0m \u001b[32m━━━━━━━━━━━━━━━━━━━━\u001b[0m\u001b[37m\u001b[0m \u001b[1m1s\u001b[0m 3ms/step - loss: 101.4534 - mean_absolute_error: 9.5725 - val_loss: 68.7749 - val_mean_absolute_error: 7.7026\n",
      "Epoch 2/50\n",
      "\u001b[1m98/98\u001b[0m \u001b[32m━━━━━━━━━━━━━━━━━━━━\u001b[0m\u001b[37m\u001b[0m \u001b[1m0s\u001b[0m 2ms/step - loss: 54.6763 - mean_absolute_error: 6.7642 - val_loss: 25.2773 - val_mean_absolute_error: 3.9931\n",
      "Epoch 3/50\n",
      "\u001b[1m98/98\u001b[0m \u001b[32m━━━━━━━━━━━━━━━━━━━━\u001b[0m\u001b[37m\u001b[0m \u001b[1m0s\u001b[0m 5ms/step - loss: 19.9558 - mean_absolute_error: 3.4698 - val_loss: 15.8445 - val_mean_absolute_error: 2.9209\n",
      "Epoch 4/50\n",
      "\u001b[1m98/98\u001b[0m \u001b[32m━━━━━━━━━━━━━━━━━━━━\u001b[0m\u001b[37m\u001b[0m \u001b[1m0s\u001b[0m 2ms/step - loss: 12.8397 - mean_absolute_error: 2.7047 - val_loss: 12.2779 - val_mean_absolute_error: 2.5539\n",
      "Epoch 5/50\n",
      "\u001b[1m98/98\u001b[0m \u001b[32m━━━━━━━━━━━━━━━━━━━━\u001b[0m\u001b[37m\u001b[0m \u001b[1m0s\u001b[0m 2ms/step - loss: 10.3747 - mean_absolute_error: 2.3664 - val_loss: 9.9904 - val_mean_absolute_error: 2.2878\n",
      "Epoch 6/50\n",
      "\u001b[1m98/98\u001b[0m \u001b[32m━━━━━━━━━━━━━━━━━━━━\u001b[0m\u001b[37m\u001b[0m \u001b[1m0s\u001b[0m 4ms/step - loss: 8.3104 - mean_absolute_error: 2.1008 - val_loss: 8.3088 - val_mean_absolute_error: 2.0414\n",
      "Epoch 7/50\n",
      "\u001b[1m98/98\u001b[0m \u001b[32m━━━━━━━━━━━━━━━━━━━━\u001b[0m\u001b[37m\u001b[0m \u001b[1m0s\u001b[0m 2ms/step - loss: 7.2632 - mean_absolute_error: 1.8836 - val_loss: 7.5611 - val_mean_absolute_error: 1.9483\n",
      "Epoch 8/50\n",
      "\u001b[1m98/98\u001b[0m \u001b[32m━━━━━━━━━━━━━━━━━━━━\u001b[0m\u001b[37m\u001b[0m \u001b[1m0s\u001b[0m 3ms/step - loss: 6.9551 - mean_absolute_error: 1.7920 - val_loss: 7.3036 - val_mean_absolute_error: 1.9104\n",
      "Epoch 9/50\n",
      "\u001b[1m98/98\u001b[0m \u001b[32m━━━━━━━━━━━━━━━━━━━━\u001b[0m\u001b[37m\u001b[0m \u001b[1m0s\u001b[0m 4ms/step - loss: 6.7929 - mean_absolute_error: 1.8143 - val_loss: 7.2004 - val_mean_absolute_error: 1.8863\n",
      "Epoch 10/50\n",
      "\u001b[1m98/98\u001b[0m \u001b[32m━━━━━━━━━━━━━━━━━━━━\u001b[0m\u001b[37m\u001b[0m \u001b[1m0s\u001b[0m 3ms/step - loss: 6.5872 - mean_absolute_error: 1.7665 - val_loss: 7.1841 - val_mean_absolute_error: 1.8846\n",
      "Epoch 11/50\n",
      "\u001b[1m98/98\u001b[0m \u001b[32m━━━━━━━━━━━━━━━━━━━━\u001b[0m\u001b[37m\u001b[0m \u001b[1m0s\u001b[0m 4ms/step - loss: 6.2096 - mean_absolute_error: 1.7334 - val_loss: 7.1462 - val_mean_absolute_error: 1.8986\n",
      "Epoch 12/50\n",
      "\u001b[1m98/98\u001b[0m \u001b[32m━━━━━━━━━━━━━━━━━━━━\u001b[0m\u001b[37m\u001b[0m \u001b[1m0s\u001b[0m 4ms/step - loss: 6.3821 - mean_absolute_error: 1.7680 - val_loss: 7.1345 - val_mean_absolute_error: 1.9188\n",
      "Epoch 13/50\n",
      "\u001b[1m98/98\u001b[0m \u001b[32m━━━━━━━━━━━━━━━━━━━━\u001b[0m\u001b[37m\u001b[0m \u001b[1m0s\u001b[0m 2ms/step - loss: 6.5708 - mean_absolute_error: 1.7711 - val_loss: 7.1167 - val_mean_absolute_error: 1.9153\n",
      "Epoch 14/50\n",
      "\u001b[1m98/98\u001b[0m \u001b[32m━━━━━━━━━━━━━━━━━━━━\u001b[0m\u001b[37m\u001b[0m \u001b[1m1s\u001b[0m 6ms/step - loss: 6.9277 - mean_absolute_error: 1.8132 - val_loss: 7.0935 - val_mean_absolute_error: 1.8958\n",
      "Epoch 15/50\n",
      "\u001b[1m98/98\u001b[0m \u001b[32m━━━━━━━━━━━━━━━━━━━━\u001b[0m\u001b[37m\u001b[0m \u001b[1m0s\u001b[0m 2ms/step - loss: 6.4536 - mean_absolute_error: 1.8045 - val_loss: 7.0807 - val_mean_absolute_error: 1.8768\n",
      "Epoch 16/50\n",
      "\u001b[1m98/98\u001b[0m \u001b[32m━━━━━━━━━━━━━━━━━━━━\u001b[0m\u001b[37m\u001b[0m \u001b[1m0s\u001b[0m 2ms/step - loss: 6.5577 - mean_absolute_error: 1.7414 - val_loss: 7.0841 - val_mean_absolute_error: 1.9051\n",
      "Epoch 17/50\n",
      "\u001b[1m98/98\u001b[0m \u001b[32m━━━━━━━━━━━━━━━━━━━━\u001b[0m\u001b[37m\u001b[0m \u001b[1m0s\u001b[0m 4ms/step - loss: 6.6227 - mean_absolute_error: 1.7736 - val_loss: 7.0648 - val_mean_absolute_error: 1.9054\n",
      "Epoch 18/50\n",
      "\u001b[1m98/98\u001b[0m \u001b[32m━━━━━━━━━━━━━━━━━━━━\u001b[0m\u001b[37m\u001b[0m \u001b[1m0s\u001b[0m 3ms/step - loss: 6.9417 - mean_absolute_error: 1.8171 - val_loss: 7.0222 - val_mean_absolute_error: 1.8942\n",
      "Epoch 19/50\n",
      "\u001b[1m98/98\u001b[0m \u001b[32m━━━━━━━━━━━━━━━━━━━━\u001b[0m\u001b[37m\u001b[0m \u001b[1m0s\u001b[0m 3ms/step - loss: 6.0727 - mean_absolute_error: 1.7626 - val_loss: 7.0205 - val_mean_absolute_error: 1.8839\n",
      "Epoch 20/50\n",
      "\u001b[1m98/98\u001b[0m \u001b[32m━━━━━━━━━━━━━━━━━━━━\u001b[0m\u001b[37m\u001b[0m \u001b[1m1s\u001b[0m 7ms/step - loss: 6.4751 - mean_absolute_error: 1.7684 - val_loss: 7.0184 - val_mean_absolute_error: 1.8824\n",
      "Epoch 21/50\n",
      "\u001b[1m98/98\u001b[0m \u001b[32m━━━━━━━━━━━━━━━━━━━━\u001b[0m\u001b[37m\u001b[0m \u001b[1m0s\u001b[0m 4ms/step - loss: 5.9589 - mean_absolute_error: 1.7428 - val_loss: 6.9877 - val_mean_absolute_error: 1.9062\n",
      "Epoch 22/50\n",
      "\u001b[1m98/98\u001b[0m \u001b[32m━━━━━━━━━━━━━━━━━━━━\u001b[0m\u001b[37m\u001b[0m \u001b[1m0s\u001b[0m 3ms/step - loss: 5.5437 - mean_absolute_error: 1.7078 - val_loss: 6.9933 - val_mean_absolute_error: 1.8978\n",
      "Epoch 23/50\n",
      "\u001b[1m98/98\u001b[0m \u001b[32m━━━━━━━━━━━━━━━━━━━━\u001b[0m\u001b[37m\u001b[0m \u001b[1m1s\u001b[0m 7ms/step - loss: 5.6598 - mean_absolute_error: 1.7399 - val_loss: 6.9648 - val_mean_absolute_error: 1.9036\n",
      "Epoch 24/50\n",
      "\u001b[1m98/98\u001b[0m \u001b[32m━━━━━━━━━━━━━━━━━━━━\u001b[0m\u001b[37m\u001b[0m \u001b[1m0s\u001b[0m 3ms/step - loss: 6.6273 - mean_absolute_error: 1.8348 - val_loss: 6.9571 - val_mean_absolute_error: 1.9003\n",
      "Epoch 25/50\n",
      "\u001b[1m98/98\u001b[0m \u001b[32m━━━━━━━━━━━━━━━━━━━━\u001b[0m\u001b[37m\u001b[0m \u001b[1m0s\u001b[0m 2ms/step - loss: 6.5513 - mean_absolute_error: 1.8254 - val_loss: 6.9554 - val_mean_absolute_error: 1.8765\n",
      "Epoch 26/50\n",
      "\u001b[1m98/98\u001b[0m \u001b[32m━━━━━━━━━━━━━━━━━━━━\u001b[0m\u001b[37m\u001b[0m \u001b[1m0s\u001b[0m 2ms/step - loss: 6.2379 - mean_absolute_error: 1.7865 - val_loss: 6.9233 - val_mean_absolute_error: 1.8650\n",
      "Epoch 27/50\n",
      "\u001b[1m98/98\u001b[0m \u001b[32m━━━━━━━━━━━━━━━━━━━━\u001b[0m\u001b[37m\u001b[0m \u001b[1m0s\u001b[0m 2ms/step - loss: 6.4977 - mean_absolute_error: 1.7889 - val_loss: 6.9076 - val_mean_absolute_error: 1.8887\n",
      "Epoch 28/50\n",
      "\u001b[1m98/98\u001b[0m \u001b[32m━━━━━━━━━━━━━━━━━━━━\u001b[0m\u001b[37m\u001b[0m \u001b[1m0s\u001b[0m 2ms/step - loss: 5.9910 - mean_absolute_error: 1.7520 - val_loss: 6.8985 - val_mean_absolute_error: 1.8911\n",
      "Epoch 29/50\n",
      "\u001b[1m98/98\u001b[0m \u001b[32m━━━━━━━━━━━━━━━━━━━━\u001b[0m\u001b[37m\u001b[0m \u001b[1m0s\u001b[0m 2ms/step - loss: 6.5706 - mean_absolute_error: 1.8032 - val_loss: 6.8915 - val_mean_absolute_error: 1.8791\n",
      "Epoch 30/50\n",
      "\u001b[1m98/98\u001b[0m \u001b[32m━━━━━━━━━━━━━━━━━━━━\u001b[0m\u001b[37m\u001b[0m \u001b[1m0s\u001b[0m 2ms/step - loss: 5.9192 - mean_absolute_error: 1.7465 - val_loss: 6.8909 - val_mean_absolute_error: 1.8644\n",
      "Epoch 31/50\n",
      "\u001b[1m98/98\u001b[0m \u001b[32m━━━━━━━━━━━━━━━━━━━━\u001b[0m\u001b[37m\u001b[0m \u001b[1m0s\u001b[0m 2ms/step - loss: 6.3155 - mean_absolute_error: 1.7853 - val_loss: 6.8691 - val_mean_absolute_error: 1.8697\n",
      "Epoch 32/50\n",
      "\u001b[1m98/98\u001b[0m \u001b[32m━━━━━━━━━━━━━━━━━━━━\u001b[0m\u001b[37m\u001b[0m \u001b[1m0s\u001b[0m 2ms/step - loss: 5.8557 - mean_absolute_error: 1.7105 - val_loss: 6.8904 - val_mean_absolute_error: 1.8719\n",
      "Epoch 33/50\n",
      "\u001b[1m98/98\u001b[0m \u001b[32m━━━━━━━━━━━━━━━━━━━━\u001b[0m\u001b[37m\u001b[0m \u001b[1m0s\u001b[0m 2ms/step - loss: 6.1729 - mean_absolute_error: 1.7883 - val_loss: 6.9225 - val_mean_absolute_error: 1.8556\n",
      "Epoch 34/50\n",
      "\u001b[1m98/98\u001b[0m \u001b[32m━━━━━━━━━━━━━━━━━━━━\u001b[0m\u001b[37m\u001b[0m \u001b[1m0s\u001b[0m 2ms/step - loss: 6.0921 - mean_absolute_error: 1.7299 - val_loss: 6.8715 - val_mean_absolute_error: 1.8957\n",
      "Epoch 35/50\n",
      "\u001b[1m98/98\u001b[0m \u001b[32m━━━━━━━━━━━━━━━━━━━━\u001b[0m\u001b[37m\u001b[0m \u001b[1m0s\u001b[0m 2ms/step - loss: 6.2641 - mean_absolute_error: 1.7854 - val_loss: 6.8556 - val_mean_absolute_error: 1.8652\n",
      "Epoch 36/50\n",
      "\u001b[1m98/98\u001b[0m \u001b[32m━━━━━━━━━━━━━━━━━━━━\u001b[0m\u001b[37m\u001b[0m \u001b[1m0s\u001b[0m 2ms/step - loss: 6.0325 - mean_absolute_error: 1.7860 - val_loss: 6.8592 - val_mean_absolute_error: 1.8778\n",
      "Epoch 37/50\n",
      "\u001b[1m98/98\u001b[0m \u001b[32m━━━━━━━━━━━━━━━━━━━━\u001b[0m\u001b[37m\u001b[0m \u001b[1m0s\u001b[0m 2ms/step - loss: 5.8460 - mean_absolute_error: 1.7186 - val_loss: 6.8618 - val_mean_absolute_error: 1.8761\n",
      "Epoch 38/50\n",
      "\u001b[1m98/98\u001b[0m \u001b[32m━━━━━━━━━━━━━━━━━━━━\u001b[0m\u001b[37m\u001b[0m \u001b[1m0s\u001b[0m 2ms/step - loss: 6.1083 - mean_absolute_error: 1.7915 - val_loss: 6.8490 - val_mean_absolute_error: 1.8729\n",
      "Epoch 39/50\n",
      "\u001b[1m98/98\u001b[0m \u001b[32m━━━━━━━━━━━━━━━━━━━━\u001b[0m\u001b[37m\u001b[0m \u001b[1m0s\u001b[0m 2ms/step - loss: 6.4869 - mean_absolute_error: 1.7861 - val_loss: 6.8230 - val_mean_absolute_error: 1.8725\n",
      "Epoch 40/50\n",
      "\u001b[1m98/98\u001b[0m \u001b[32m━━━━━━━━━━━━━━━━━━━━\u001b[0m\u001b[37m\u001b[0m \u001b[1m0s\u001b[0m 2ms/step - loss: 5.8423 - mean_absolute_error: 1.7275 - val_loss: 6.8605 - val_mean_absolute_error: 1.8600\n",
      "Epoch 41/50\n",
      "\u001b[1m98/98\u001b[0m \u001b[32m━━━━━━━━━━━━━━━━━━━━\u001b[0m\u001b[37m\u001b[0m \u001b[1m0s\u001b[0m 2ms/step - loss: 6.1708 - mean_absolute_error: 1.7784 - val_loss: 6.8429 - val_mean_absolute_error: 1.9014\n",
      "Epoch 42/50\n",
      "\u001b[1m98/98\u001b[0m \u001b[32m━━━━━━━━━━━━━━━━━━━━\u001b[0m\u001b[37m\u001b[0m \u001b[1m0s\u001b[0m 2ms/step - loss: 5.9211 - mean_absolute_error: 1.7451 - val_loss: 6.8648 - val_mean_absolute_error: 1.9209\n",
      "Epoch 43/50\n",
      "\u001b[1m98/98\u001b[0m \u001b[32m━━━━━━━━━━━━━━━━━━━━\u001b[0m\u001b[37m\u001b[0m \u001b[1m0s\u001b[0m 3ms/step - loss: 6.3096 - mean_absolute_error: 1.8186 - val_loss: 6.8161 - val_mean_absolute_error: 1.8599\n",
      "Epoch 44/50\n",
      "\u001b[1m98/98\u001b[0m \u001b[32m━━━━━━━━━━━━━━━━━━━━\u001b[0m\u001b[37m\u001b[0m \u001b[1m0s\u001b[0m 2ms/step - loss: 6.1368 - mean_absolute_error: 1.7457 - val_loss: 6.8042 - val_mean_absolute_error: 1.8640\n",
      "Epoch 45/50\n",
      "\u001b[1m98/98\u001b[0m \u001b[32m━━━━━━━━━━━━━━━━━━━━\u001b[0m\u001b[37m\u001b[0m \u001b[1m0s\u001b[0m 2ms/step - loss: 5.9213 - mean_absolute_error: 1.7431 - val_loss: 6.8124 - val_mean_absolute_error: 1.8942\n",
      "Epoch 46/50\n",
      "\u001b[1m98/98\u001b[0m \u001b[32m━━━━━━━━━━━━━━━━━━━━\u001b[0m\u001b[37m\u001b[0m \u001b[1m0s\u001b[0m 2ms/step - loss: 5.8936 - mean_absolute_error: 1.7658 - val_loss: 6.8173 - val_mean_absolute_error: 1.8913\n",
      "Epoch 47/50\n",
      "\u001b[1m98/98\u001b[0m \u001b[32m━━━━━━━━━━━━━━━━━━━━\u001b[0m\u001b[37m\u001b[0m \u001b[1m0s\u001b[0m 2ms/step - loss: 6.0341 - mean_absolute_error: 1.7533 - val_loss: 6.8283 - val_mean_absolute_error: 1.8970\n",
      "Epoch 48/50\n",
      "\u001b[1m98/98\u001b[0m \u001b[32m━━━━━━━━━━━━━━━━━━━━\u001b[0m\u001b[37m\u001b[0m \u001b[1m0s\u001b[0m 2ms/step - loss: 6.0338 - mean_absolute_error: 1.7611 - val_loss: 6.7969 - val_mean_absolute_error: 1.8735\n",
      "Epoch 49/50\n",
      "\u001b[1m98/98\u001b[0m \u001b[32m━━━━━━━━━━━━━━━━━━━━\u001b[0m\u001b[37m\u001b[0m \u001b[1m0s\u001b[0m 4ms/step - loss: 6.1481 - mean_absolute_error: 1.7807 - val_loss: 6.8058 - val_mean_absolute_error: 1.8515\n",
      "Epoch 50/50\n",
      "\u001b[1m98/98\u001b[0m \u001b[32m━━━━━━━━━━━━━━━━━━━━\u001b[0m\u001b[37m\u001b[0m \u001b[1m0s\u001b[0m 2ms/step - loss: 6.0969 - mean_absolute_error: 1.7354 - val_loss: 6.8146 - val_mean_absolute_error: 1.9076\n"
     ]
    },
    {
     "data": {
      "text/plain": [
       "['scaler.save']"
      ]
     },
     "execution_count": 5,
     "metadata": {},
     "output_type": "execute_result"
    }
   ],
   "source": [
    "import numpy as np\n",
    "from tensorflow import keras\n",
    "from tensorflow.keras.losses import MeanSquaredError\n",
    "from tensorflow.keras.metrics import MeanAbsoluteError\n",
    "from sklearn.model_selection import train_test_split\n",
    "from sklearn.preprocessing import StandardScaler\n",
    "\n",
    "#split data\n",
    "X_train, X_test, y_train, y_test = train_test_split(X, y, test_size=0.2, random_state = 0)\n",
    "\n",
    "#scale data\n",
    "scaler = StandardScaler()\n",
    "X_train_scaled = scaler.fit_transform(X_train)\n",
    "X_test_scaled = scaler.transform(X_test)\n",
    "\n",
    "#model details\n",
    "model = keras.Sequential([\n",
    "    keras.layers.Dense(16, activation='relu', input_shape=(X.shape[1],)),\n",
    "    keras.layers.Dense(8, activation='relu'),\n",
    "    keras.layers.Dense(1) \n",
    "])\n",
    "\n",
    "model.compile(optimizer='adam', loss=MeanSquaredError(), metrics=[MeanAbsoluteError()])\n",
    "\n",
    "#train model\n",
    "model.fit(X_train_scaled, y_train, epochs=50, validation_data=(X_test_scaled, y_test))\n",
    "\n",
    "#Save model to use in flask\n",
    "model.save('my_model.keras')\n",
    "\n",
    "#Save the scaler to use in flask\n",
    "import joblib\n",
    "joblib.dump(scaler, 'scaler.save')"
   ]
  },
  {
   "cell_type": "code",
   "execution_count": 6,
   "metadata": {},
   "outputs": [
    {
     "ename": "NameError",
     "evalue": "name 'history' is not defined",
     "output_type": "error",
     "traceback": [
      "\u001b[31m---------------------------------------------------------------------------\u001b[39m",
      "\u001b[31mNameError\u001b[39m                                 Traceback (most recent call last)",
      "\u001b[36mCell\u001b[39m\u001b[36m \u001b[39m\u001b[32mIn[6]\u001b[39m\u001b[32m, line 4\u001b[39m\n\u001b[32m      1\u001b[39m \u001b[38;5;28;01mimport\u001b[39;00m\u001b[38;5;250m \u001b[39m\u001b[34;01mmatplotlib\u001b[39;00m\u001b[34;01m.\u001b[39;00m\u001b[34;01mpyplot\u001b[39;00m\u001b[38;5;250m \u001b[39m\u001b[38;5;28;01mas\u001b[39;00m\u001b[38;5;250m \u001b[39m\u001b[34;01mplt\u001b[39;00m\n\u001b[32m      2\u001b[39m \u001b[38;5;28;01mimport\u001b[39;00m\u001b[38;5;250m \u001b[39m\u001b[34;01mseaborn\u001b[39;00m\u001b[38;5;250m \u001b[39m\u001b[38;5;28;01mas\u001b[39;00m\u001b[38;5;250m \u001b[39m\u001b[34;01msns\u001b[39;00m\n\u001b[32m----> \u001b[39m\u001b[32m4\u001b[39m history_df = pd.DataFrame(\u001b[43mhistory\u001b[49m.history)\n\u001b[32m      6\u001b[39m plt.figure(figsize=(\u001b[32m10\u001b[39m,\u001b[32m6\u001b[39m))\n\u001b[32m      7\u001b[39m sns.lineplot(data=history_df[[\u001b[33m'\u001b[39m\u001b[33mloss\u001b[39m\u001b[33m'\u001b[39m, \u001b[33m'\u001b[39m\u001b[33mval_loss\u001b[39m\u001b[33m'\u001b[39m]])\n",
      "\u001b[31mNameError\u001b[39m: name 'history' is not defined"
     ]
    }
   ],
   "source": [
    "import matplotlib.pyplot as plt\n",
    "import seaborn as sns\n",
    "\n",
    "history_df = pd.DataFrame(history.history)\n",
    "\n",
    "plt.figure(figsize=(10,6))\n",
    "sns.lineplot(data=history_df[['loss', 'val_loss']])\n",
    "plt.xlabel('Epoch')\n",
    "plt.ylabel('Loss')\n",
    "plt.title('Training and Validation Loss')\n",
    "plt.legend(labels=['Training Loss', 'Validation Loss'])\n",
    "plt.show()"
   ]
  }
 ],
 "metadata": {
  "kernelspec": {
   "display_name": "Python 3",
   "language": "python",
   "name": "python3"
  },
  "language_info": {
   "codemirror_mode": {
    "name": "ipython",
    "version": 3
   },
   "file_extension": ".py",
   "mimetype": "text/x-python",
   "name": "python",
   "nbconvert_exporter": "python",
   "pygments_lexer": "ipython3",
   "version": "3.12.6"
  }
 },
 "nbformat": 4,
 "nbformat_minor": 2
}
